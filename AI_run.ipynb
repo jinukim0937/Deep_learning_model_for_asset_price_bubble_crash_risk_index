{
 "cells": [
  {
   "cell_type": "code",
   "execution_count": 6,
   "id": "12d4fbf5",
   "metadata": {},
   "outputs": [],
   "source": [
    "import torch\n",
    "import torch.nn as nn\n",
    "import numpy as np\n",
    "import pandas as pd\n",
    "import os\n",
    "import yfinance as yf"
   ]
  },
  {
   "cell_type": "code",
   "execution_count": 7,
   "id": "cf0046a6",
   "metadata": {},
   "outputs": [],
   "source": [
    "train_df = pd.read_csv(\"data_train.csv\")\n"
   ]
  },
  {
   "cell_type": "code",
   "execution_count": 8,
   "id": "0bec9766",
   "metadata": {},
   "outputs": [],
   "source": [
    "variable_names = ['B','Tc', 'beta', 'C', 'Omega', 'Phi', 'RMSE']\n",
    "\n",
    "means = train_df[variable_names].mean()\n",
    "stds = train_df[variable_names].std()"
   ]
  },
  {
   "cell_type": "code",
   "execution_count": 10,
   "id": "aa2c2abe",
   "metadata": {},
   "outputs": [],
   "source": [
    "class NeuralNetwork(nn.Module):\n",
    "    def __init__(self):\n",
    "        super(NeuralNetwork, self).__init__()\n",
    "        self.layers = nn.ModuleList()\n",
    "        \n",
    "        # Add input layer\n",
    "        self.layers.append(nn.Linear(7, 128))\n",
    "        \n",
    "         # Add input layer\n",
    "        self.layers.append(nn.Linear(128, 64))\n",
    "        \n",
    "        # Add input layer\n",
    "        self.layers.append(nn.Linear(64, 32))\n",
    "        \n",
    "        # Add output layer\n",
    "        self.layers.append(nn.Linear(32, 1))\n",
    "        \n",
    "        self.relu = nn.ReLU()\n",
    "        self.sigmoid = nn.Sigmoid()\n",
    "    \n",
    "    def forward(self, x):\n",
    "        for layer in self.layers[:-1]:\n",
    "            x = self.relu(layer(x))\n",
    "        x = self.sigmoid(self.layers[-1](x))\n",
    "        return x"
   ]
  },
  {
   "cell_type": "code",
   "execution_count": 11,
   "id": "a90db23b",
   "metadata": {},
   "outputs": [
    {
     "data": {
      "text/plain": [
       "NeuralNetwork(\n",
       "  (layers): ModuleList(\n",
       "    (0): Linear(in_features=7, out_features=128, bias=True)\n",
       "    (1): Linear(in_features=128, out_features=64, bias=True)\n",
       "    (2): Linear(in_features=64, out_features=32, bias=True)\n",
       "    (3): Linear(in_features=32, out_features=1, bias=True)\n",
       "  )\n",
       "  (relu): ReLU()\n",
       "  (sigmoid): Sigmoid()\n",
       ")"
      ]
     },
     "execution_count": 11,
     "metadata": {},
     "output_type": "execute_result"
    }
   ],
   "source": [
    "model = NeuralNetwork()\n",
    "model.load_state_dict(torch.load(\"best_model_240427.pth\")) #test -> docker container\n",
    "model.eval()"
   ]
  },
  {
   "cell_type": "code",
   "execution_count": 12,
   "id": "88ffc82c",
   "metadata": {},
   "outputs": [],
   "source": [
    "Mean = means.values.tolist()"
   ]
  },
  {
   "cell_type": "code",
   "execution_count": 13,
   "id": "6dc5a844",
   "metadata": {},
   "outputs": [],
   "source": [
    "SD = stds.values.tolist()"
   ]
  },
  {
   "cell_type": "code",
   "execution_count": 14,
   "id": "461d771e",
   "metadata": {},
   "outputs": [],
   "source": [
    "## 데이터"
   ]
  },
  {
   "cell_type": "code",
   "execution_count": 15,
   "id": "f7995c01",
   "metadata": {},
   "outputs": [],
   "source": [
    "Data_folder = \"LPPL\""
   ]
  },
  {
   "cell_type": "code",
   "execution_count": 16,
   "id": "dc5c01d9",
   "metadata": {},
   "outputs": [],
   "source": [
    "file_names = os.listdir(Data_folder)"
   ]
  },
  {
   "cell_type": "code",
   "execution_count": 30,
   "id": "dd137f6b",
   "metadata": {},
   "outputs": [],
   "source": [
    "Result_list = []"
   ]
  },
  {
   "cell_type": "code",
   "execution_count": 31,
   "id": "1202e370",
   "metadata": {
    "scrolled": false
   },
   "outputs": [],
   "source": [
    "for file_name in file_names:\n",
    "    \n",
    "    if file_name == '.DS_Store':\n",
    "        continue\n",
    "    \n",
    "    ticker, date_raw = file_name.split(\"_\")[:3] \n",
    "    date = date_raw[:-5]\n",
    "    \n",
    "    # CSV 파일 로드\n",
    "    df = pd.read_excel(Data_folder + \"/\" + file_name)\n",
    "\n",
    "    # \"RMSE\"가 가장 작은 행 찾기\n",
    "    min_rmse_row = df.loc[df['RMSE'].idxmin()]\n",
    "\n",
    "    # \"A\", \"B\", \"Tc\", \"beta\", \"C\", \"Omega\", \"Phi\" 값 추출\n",
    "    A_value = min_rmse_row['A']\n",
    "    B_value = min_rmse_row['B']\n",
    "    Tc_value = min_rmse_row['Tc']\n",
    "    beta_value = min_rmse_row['beta']\n",
    "    C_value = min_rmse_row['C']\n",
    "    Omega_value = min_rmse_row['Omega']\n",
    "    Phi_value = min_rmse_row['Phi']\n",
    "    RMSE_value = min_rmse_row['RMSE']\n",
    "    \n",
    "    PD = [B_value,Tc_value, beta_value, C_value, Omega_value, Phi_value, RMSE_value]\n",
    "    \n",
    "    for i in range(0,5):\n",
    "        PD[i] = ((PD[i]-Mean[i])/SD[i])\n",
    "        \n",
    "    preprocessed_data = np.array([PD])  # Replace with actual preprocessed data\n",
    "    input_tensor = torch.tensor(preprocessed_data, dtype=torch.float32)  # Convert to tensor\n",
    "    \n",
    "    # Make predictions\n",
    "    with torch.no_grad():\n",
    "        predictions = model(input_tensor)\n",
    "        \n",
    "    Result_list.append({\"Ticker\": ticker, 'date': date, 'AI': predictions.item(), 'tc': Tc_value})"
   ]
  },
  {
   "cell_type": "code",
   "execution_count": 32,
   "id": "7d13e818",
   "metadata": {},
   "outputs": [],
   "source": [
    "Result = pd.DataFrame(Result_list)"
   ]
  },
  {
   "cell_type": "code",
   "execution_count": 33,
   "id": "00133384",
   "metadata": {},
   "outputs": [],
   "source": [
    "Result.to_csv(\"result_AI.csv\", index=False, encoding='utf-8-sig')"
   ]
  },
  {
   "cell_type": "code",
   "execution_count": null,
   "id": "541b793a",
   "metadata": {},
   "outputs": [],
   "source": []
  }
 ],
 "metadata": {
  "kernelspec": {
   "display_name": "Python 3 (ipykernel)",
   "language": "python",
   "name": "python3"
  },
  "language_info": {
   "codemirror_mode": {
    "name": "ipython",
    "version": 3
   },
   "file_extension": ".py",
   "mimetype": "text/x-python",
   "name": "python",
   "nbconvert_exporter": "python",
   "pygments_lexer": "ipython3",
   "version": "3.9.13"
  },
  "toc": {
   "base_numbering": 1,
   "nav_menu": {},
   "number_sections": true,
   "sideBar": true,
   "skip_h1_title": false,
   "title_cell": "Table of Contents",
   "title_sidebar": "Contents",
   "toc_cell": false,
   "toc_position": {},
   "toc_section_display": true,
   "toc_window_display": false
  }
 },
 "nbformat": 4,
 "nbformat_minor": 5
}
